{
 "cells": [
  {
   "cell_type": "code",
   "execution_count": null,
   "id": "d4d40bee",
   "metadata": {},
   "outputs": [
    {
     "name": "stdout",
     "output_type": "stream",
     "text": [
      "Collecting package metadata (current_repodata.json): done\n",
      "Solving environment: - \n",
      "The environment is inconsistent, please check the package plan carefully\n",
      "The following packages are causing the inconsistency:\n",
      "\n",
      "  - conda-forge/noarch::bleach==5.0.1=pyhd8ed1ab_0\n",
      "  - conda-forge/noarch::pytest==7.2.0=pyhd8ed1ab_2\n",
      "  - conda-forge/noarch::python-lsp-jsonrpc==1.0.0=pyhd8ed1ab_0\n",
      "  - conda-forge/noarch::qtpy==2.3.0=pyhd8ed1ab_0\n",
      "  - conda-forge/linux-64::sip==6.7.5=py39h5a03fae_0\n",
      "  - conda-forge/noarch::terminado==0.17.1=pyh41d4057_0\n",
      "  - conda-forge/linux-64::watchdog==2.2.1=py39hf3d152e_0\n",
      "  - conda-forge/noarch::dask-core==2022.11.0=pyhd8ed1ab_0\n",
      "  - conda-forge/noarch::flask==2.2.2=pyhd8ed1ab_0\n",
      "  - conda-forge/noarch::importlib_metadata==6.0.0=hd8ed1ab_0\n",
      "  - conda-forge/noarch::nltk==3.8.1=pyhd8ed1ab_0\n",
      "  - conda-forge/linux-64::pyqt5-sip==12.11.0=py39h5a03fae_2\n",
      "  - conda-forge/noarch::python-lsp-server-base==1.7.0=pyhd8ed1ab_0\n",
      "  - conda-forge/noarch::pytoolconfig==1.2.4=pyhd8ed1ab_1\n",
      "  - conda-forge/noarch::qdarkstyle==3.0.3=pyhd8ed1ab_0\n",
      "  - conda-forge/noarch::qtawesome==1.2.2=pyhd8ed1ab_0\n",
      "  - conda-forge/noarch::flask-cors==3.0.10=pyhd8ed1ab_0\n",
      "  - conda-forge/noarch::rope==1.6.0=pyhd8ed1ab_0\n",
      "  - conda-forge/linux-64::keyring==23.13.1=py39hf3d152e_0\n",
      "  - conda-forge/noarch::nbformat==5.7.1=pyhd8ed1ab_0\n",
      "  - conda-forge/noarch::python-lsp-server==1.7.0=hd8ed1ab_0\n",
      "  - conda-forge/noarch::distributed==2022.11.0=pyhd8ed1ab_0\n",
      "  - conda-forge/noarch::ipykernel==6.20.1=pyh210e3f2_0\n",
      "  - conda-forge/noarch::nbclient==0.7.2=pyhd8ed1ab_0\n",
      "  - conda-forge/noarch::pyls-spyder==0.4.0=pyhd8ed1ab_0\n",
      "  - conda-forge/linux-64::pyqt==5.15.7=py39h18e9c17_2\n",
      "  - conda-forge/noarch::python-lsp-black==1.2.1=pyhd8ed1ab_0\n",
      "  - conda-forge/noarch::requests==2.28.1=pyhd8ed1ab_1\n",
      "  - conda-forge/noarch::cookiecutter==2.1.1=pyh6c4a22f_0\n",
      "  - conda-forge/noarch::jupyter_console==6.4.4=pyhd8ed1ab_0\n",
      "  - conda-forge/noarch::nbconvert-core==7.2.7=pyhd8ed1ab_0\n",
      "  - conda-forge/noarch::pooch==1.6.0=pyhd8ed1ab_0\n",
      "  - conda-forge/linux-64::pyqtwebengine==5.15.7=py39h18e9c17_2\n",
      "  - conda-forge/noarch::qtconsole-base==5.4.0=pyha770c72_0\n",
      "  - conda-forge/linux-64::requests-kerberos==0.12.0=py39hf3d152e_4\n",
      "  - conda-forge/noarch::spyder-kernels==2.4.1=unix_pyhd8ed1ab_0\n",
      "  - conda-forge/noarch::nbconvert-pandoc==7.2.7=pyhd8ed1ab_0\n",
      "  - conda-forge/noarch::numpydoc==1.5.0=pyhd8ed1ab_0\n",
      "  - conda-forge/noarch::qtconsole==5.4.0=pyhd8ed1ab_0\n",
      "  - conda-forge/noarch::sphinxcontrib-websupport==1.2.4=pyhd8ed1ab_1\n",
      "  - conda-forge/linux-64::astropy==5.2=py39h389d5f1_0\n",
      "  - conda-forge/noarch::jupyterlab_server==2.18.0=pyhd8ed1ab_0\n",
      "  - conda-forge/noarch::nbconvert==7.2.7=pyhd8ed1ab_0\n",
      "  - conda-forge/noarch::notebook-shim==0.2.2=pyhd8ed1ab_0\n",
      "  - conda-forge/linux-64::pytables==3.7.0=py39h6a7961f_3\n",
      "  - conda-forge/noarch::dask==2022.11.0=pyhd8ed1ab_0\n",
      "  - conda-forge/noarch::nbclassic==0.4.8=pyhd8ed1ab_0\n",
      "  - conda-forge/linux-64::scikit-image==0.19.3=py39h4661b88_2\n",
      "  - conda-forge/linux-64::spyder==5.4.1=py39hf3d152e_1\n",
      "  - conda-forge/linux-64::statsmodels==0.13.5=py39h2ae25f5_2\n",
      "  - conda-forge/linux-64::jupyter==1.0.0=py39hf3d152e_8\n",
      "  - conda-forge/noarch::hdijupyterutils==0.20.3=pyh1a96a4e_0\n",
      "  - conda-forge/noarch::autovizwidget==0.20.3=pyh1a96a4e_0\n",
      "  - conda-forge/noarch::sparkmagic==0.20.3=pyhd8ed1ab_0\n",
      "  - conda-forge/noarch::fastcore==1.5.26=pyhd8ed1ab_0\n",
      "  - conda-forge/noarch::bokeh==2.4.3=pyhd8ed1ab_3\n",
      "  - conda-forge/linux-64::matplotlib-base==3.5.3=py39h19d6b11_2\n",
      "  - intel/linux-64::mkl_umath==0.1.1=py39h0348192_26\n",
      "  - conda-forge/linux-64::matplotlib==3.5.3=py39hf3d152e_2\n",
      "  - conda-forge/noarch::seaborn-base==0.11.2=pyhd8ed1ab_0\n",
      "  - conda-forge/noarch::sphinx==5.1.1=pyhd8ed1ab_1\n",
      "  - conda-forge/linux-64::spacy==3.4.4=py39h0354152_0\n",
      "  - pytorch/noarch::captum==0.5.0=0\n",
      "  - conda-forge/noarch::seaborn==0.11.2=hd8ed1ab_0\n",
      "  - pytorch/linux-64::torchtext==0.14.1=py39\n",
      "  - pytorch/linux-64::torchvision==0.14.1=py39_cu117\n",
      "  - fastai/noarch::fastai==2.1.10=py_0\n",
      "  - conda-forge/noarch::notebook==6.4.12=pyha770c72_0\n",
      "  - conda-forge/noarch::jupyterlab==3.3.4=pyhd8ed1ab_0\n",
      "| "
     ]
    }
   ],
   "source": [
    "!conda install -c conda-forge rise"
   ]
  },
  {
   "cell_type": "code",
   "execution_count": null,
   "id": "2cad1d0c",
   "metadata": {},
   "outputs": [],
   "source": []
  }
 ],
 "metadata": {
  "kernelspec": {
   "display_name": "conda_pytorch_p39",
   "language": "python",
   "name": "conda_pytorch_p39"
  },
  "language_info": {
   "codemirror_mode": {
    "name": "ipython",
    "version": 3
   },
   "file_extension": ".py",
   "mimetype": "text/x-python",
   "name": "python",
   "nbconvert_exporter": "python",
   "pygments_lexer": "ipython3",
   "version": "3.9.15"
  }
 },
 "nbformat": 4,
 "nbformat_minor": 5
}
